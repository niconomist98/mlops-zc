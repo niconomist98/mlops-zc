{
 "cells": [
  {
   "cell_type": "code",
   "execution_count": 9,
   "id": "96adff7f",
   "metadata": {},
   "outputs": [],
   "source": [
    "import pandas as pd\n",
    "import sklearn\n",
    "sklearn.__version__\n",
    "import seaborn as sns\n",
    "import matplotlib.pyplot as plt\n",
    "from sklearn.feature_extraction import DictVectorizer\n",
    "from sklearn.linear_model import LinearRegression\n",
    "from sklearn.linear_model import Lasso\n",
    "from sklearn.metrics import mean_squared_error\n",
    "import pickle"
   ]
  },
  {
   "cell_type": "code",
   "execution_count": 3,
   "id": "69e20630",
   "metadata": {},
   "outputs": [],
   "source": [
    "def read_dataset(filename):\n",
    "    df=pd.read_parquet(filename)\n",
    "    df.tpep_dropoff_datetime=pd.to_datetime(df.tpep_dropoff_datetime)\n",
    "    df.tpep_pickup_datetime=pd.to_datetime(df.tpep_pickup_datetime)\n",
    "    df['duration']=df.tpep_dropoff_datetime-df.tpep_pickup_datetime\n",
    "    df['duration'] = df['duration'].dt.total_seconds().div(60).astype(float)\n",
    "    #df=df[(df.duration>=1)&(df.duration<=60)]\n",
    "    categorical=['PULocationID','DOLocationID']\n",
    "    numerical=['trip_distance']\n",
    "    df[categorical]=df[categorical].astype(str)\n",
    "    return df\n",
    "    "
   ]
  },
  {
   "cell_type": "code",
   "execution_count": 4,
   "id": "87aaa883",
   "metadata": {},
   "outputs": [],
   "source": [
    "df_train=read_dataset('https://d37ci6vzurychx.cloudfront.net/trip-data/yellow_tripdata_2024-01.parquet')\n",
    "df_test=read_dataset(filename='https://d37ci6vzurychx.cloudfront.net/trip-data/yellow_tripdata_2024-02.parquet')\n"
   ]
  },
  {
   "cell_type": "code",
   "execution_count": 5,
   "id": "5500bdb2",
   "metadata": {
    "scrolled": true
   },
   "outputs": [
    {
     "data": {
      "text/plain": [
       "(2964624, 3007526)"
      ]
     },
     "execution_count": 5,
     "metadata": {},
     "output_type": "execute_result"
    }
   ],
   "source": [
    "len(df_train),len(df_test)"
   ]
  },
  {
   "cell_type": "code",
   "execution_count": 6,
   "id": "08fabbd9",
   "metadata": {},
   "outputs": [],
   "source": [
    "categorical=['PULocationID','DOLocationID']\n",
    "numerical=['trip_distance']\n",
    "target='duration'\n",
    "dv=DictVectorizer()\n",
    "train_dicts=df_train[categorical+numerical].to_dict(orient='records')\n",
    "test_dicts=df_test[categorical+numerical].to_dict(orient='records')\n",
    "X_train=dv.fit_transform(train_dicts)\n",
    "X_test=dv.transform(test_dicts)\n",
    "\n"
   ]
  },
  {
   "cell_type": "code",
   "execution_count": 7,
   "id": "3db67845",
   "metadata": {},
   "outputs": [],
   "source": [
    "target='duration'\n",
    "y_train=df_train[target].values\n",
    "y_test=df_test[target].values\n"
   ]
  },
  {
   "cell_type": "code",
   "execution_count": 10,
   "id": "26947607",
   "metadata": {},
   "outputs": [
    {
     "data": {
      "text/plain": [
       "33.49205886470693"
      ]
     },
     "execution_count": 10,
     "metadata": {},
     "output_type": "execute_result"
    }
   ],
   "source": [
    "lr=LinearRegression()\n",
    "lr.fit(X_train,y_train)\n",
    "y_pred=lr.predict(X_test)\n",
    "mean_squared_error(y_test,y_pred,squared=False)"
   ]
  },
  {
   "cell_type": "code",
   "execution_count": 12,
   "id": "ad2501ce",
   "metadata": {},
   "outputs": [],
   "source": [
    "with open ('models/lin_reg.bin','wb') as f_out:\n",
    "    pickle.dump((dv,lr),f_out)"
   ]
  },
  {
   "cell_type": "code",
   "execution_count": null,
   "id": "b0c5c0cf",
   "metadata": {},
   "outputs": [],
   "source": []
  }
 ],
 "metadata": {
  "kernelspec": {
   "display_name": "Python 3 (ipykernel)",
   "language": "python",
   "name": "python3"
  },
  "language_info": {
   "codemirror_mode": {
    "name": "ipython",
    "version": 3
   },
   "file_extension": ".py",
   "mimetype": "text/x-python",
   "name": "python",
   "nbconvert_exporter": "python",
   "pygments_lexer": "ipython3",
   "version": "3.9.12"
  }
 },
 "nbformat": 4,
 "nbformat_minor": 5
}
