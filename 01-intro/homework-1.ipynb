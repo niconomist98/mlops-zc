{
 "cells": [
  {
   "cell_type": "code",
   "execution_count": 1,
   "id": "96adff7f",
   "metadata": {},
   "outputs": [],
   "source": [
    "import pandas as pd\n",
    "import sklearn\n",
    "sklearn.__version__\n",
    "import seaborn as sns\n",
    "import matplotlib.pyplot as plt\n",
    "from sklearn.feature_extraction import DictVectorizer\n",
    "from sklearn.linear_model import LinearRegression\n",
    "from sklearn.linear_model import Lasso\n",
    "from sklearn.metrics import mean_squared_error\n",
    "import pickle"
   ]
  },
  {
   "cell_type": "code",
   "execution_count": 2,
   "id": "12df0d1a",
   "metadata": {},
   "outputs": [],
   "source": [
    "def read_dataset(filename):\n",
    "    df=pd.read_parquet(filename)\n",
    "    df.tpep_dropoff_datetime=pd.to_datetime(df.tpep_dropoff_datetime)\n",
    "    df.tpep_pickup_datetime=pd.to_datetime(df.tpep_pickup_datetime)\n",
    "    df['duration']=df.tpep_dropoff_datetime-df.tpep_pickup_datetime\n",
    "    df['duration'] = df['duration'].dt.total_seconds().div(60).astype(float)\n",
    "    #df=df[(df.duration>=1)&(df.duration<=60)]\n",
    "    categorical=['PULocationID','DOLocationID']\n",
    "    numerical=['trip_distance']\n",
    "    df[categorical]=df[categorical].astype(str)\n",
    "    return df\n",
    "def read_dataset_2(filename):\n",
    "    df=pd.read_parquet(filename)\n",
    "    df.tpep_dropoff_datetime=pd.to_datetime(df.tpep_dropoff_datetime)\n",
    "    df.tpep_pickup_datetime=pd.to_datetime(df.tpep_pickup_datetime)\n",
    "    df['duration']=df.tpep_dropoff_datetime-df.tpep_pickup_datetime\n",
    "    df['duration'] = df['duration'].dt.total_seconds().div(60).astype(float)\n",
    "    df=df[(df.duration>=1)&(df.duration<=60)]\n",
    "    categorical=['PULocationID','DOLocationID']\n",
    "    numerical=['trip_distance']\n",
    "    df[categorical]=df[categorical].astype(str)\n",
    "    return df "
   ]
  },
  {
   "cell_type": "code",
   "execution_count": 3,
   "id": "eebf276e",
   "metadata": {},
   "outputs": [],
   "source": [
    "df_train=read_dataset('https://d37ci6vzurychx.cloudfront.net/trip-data/yellow_tripdata_2023-01.parquet')\n",
    "df_test=read_dataset(filename='https://d37ci6vzurychx.cloudfront.net/trip-data/yellow_tripdata_2023-02.parquet')\n",
    "\n",
    "df_train_1_60=read_dataset_2('https://d37ci6vzurychx.cloudfront.net/trip-data/yellow_tripdata_2023-01.parquet')\n",
    "df_test_1_60=read_dataset_2(filename='https://d37ci6vzurychx.cloudfront.net/trip-data/yellow_tripdata_2023-02.parquet')\n"
   ]
  },
  {
   "cell_type": "code",
   "execution_count": 4,
   "id": "e505e539",
   "metadata": {
    "scrolled": true
   },
   "outputs": [
    {
     "data": {
      "text/plain": [
       "(98.1220282212598, 98.00944077722545)"
      ]
     },
     "execution_count": 4,
     "metadata": {},
     "output_type": "execute_result"
    }
   ],
   "source": [
    "len(df_train_1_60)/len(df_train)*100,len(df_test_1_60)/len(df_test)*100\n"
   ]
  },
  {
   "cell_type": "code",
   "execution_count": 5,
   "id": "b24890c3",
   "metadata": {},
   "outputs": [],
   "source": [
    "categorical=['PULocationID','DOLocationID']\n",
    "numerical=['trip_distance']\n",
    "target='duration'\n",
    "dv=DictVectorizer()\n",
    "train_dicts=df_train_1_60[categorical+numerical].to_dict(orient='records')\n",
    "X_train=dv.fit_transform(train_dicts)"
   ]
  },
  {
   "cell_type": "code",
   "execution_count": null,
   "id": "17a0b797",
   "metadata": {},
   "outputs": [],
   "source": [
    "test_dicts=df_test_1_60[categorical+numerical].to_dict(orient='records')\n",
    "X_test=dv.transform(test_dicts)"
   ]
  },
  {
   "cell_type": "code",
   "execution_count": null,
   "id": "56c80514",
   "metadata": {},
   "outputs": [],
   "source": [
    "len(dv.feature_names_)\n",
    "dv.feature_names_"
   ]
  },
  {
   "cell_type": "code",
   "execution_count": null,
   "id": "c641749a",
   "metadata": {},
   "outputs": [],
   "source": [
    "target='duration'\n",
    "y_train=df_train_1_60[target].values\n",
    "y_test=df_test[target].values\n"
   ]
  },
  {
   "cell_type": "code",
   "execution_count": null,
   "id": "c0f707af",
   "metadata": {},
   "outputs": [],
   "source": [
    "lr=LinearRegression()\n",
    "lr.fit(X_train,y_train)\n",
    "y_pred=lr.predict(X_test)\n",
    "mean_squared_error(y_test,y_pred,squared=False)"
   ]
  },
  {
   "cell_type": "code",
   "execution_count": null,
   "id": "a20912da",
   "metadata": {},
   "outputs": [],
   "source": [
    "with open ('models/lin_reg.bin','wb') as f_out:\n",
    "    pickle.dump((dv,lr),f_out)"
   ]
  },
  {
   "cell_type": "code",
   "execution_count": null,
   "id": "2ff697aa",
   "metadata": {},
   "outputs": [],
   "source": [
    "len(df_train.columns)"
   ]
  },
  {
   "cell_type": "code",
   "execution_count": null,
   "id": "9f87e6ea",
   "metadata": {},
   "outputs": [],
   "source": [
    "df_train['duration'].std()"
   ]
  }
 ],
 "metadata": {
  "kernelspec": {
   "display_name": "Python 3 (ipykernel)",
   "language": "python",
   "name": "python3"
  },
  "language_info": {
   "codemirror_mode": {
    "name": "ipython",
    "version": 3
   },
   "file_extension": ".py",
   "mimetype": "text/x-python",
   "name": "python",
   "nbconvert_exporter": "python",
   "pygments_lexer": "ipython3",
   "version": "3.9.12"
  }
 },
 "nbformat": 4,
 "nbformat_minor": 5
}
